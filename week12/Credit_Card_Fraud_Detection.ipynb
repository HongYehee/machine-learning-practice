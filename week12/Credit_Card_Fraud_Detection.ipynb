{
  "nbformat": 4,
  "nbformat_minor": 0,
  "metadata": {
    "colab": {
      "provenance": []
    },
    "kernelspec": {
      "name": "python3",
      "display_name": "Python 3"
    },
    "language_info": {
      "name": "python"
    }
  },
  "cells": [
    {
      "cell_type": "code",
      "execution_count": null,
      "metadata": {
        "id": "XDwIj0VX62KV"
      },
      "outputs": [],
      "source": [
        "# Credit Card Fraud Detection 데이터 읽어오기\n",
        "import pandas as pd\n",
        "\n",
        "data_path = './creditcard.csv'\n",
        "raw_data = pd.read_csv(data_path)\n",
        "raw_data.head()"
      ]
    },
    {
      "cell_type": "code",
      "source": [
        "# column들의 이름 확인 (Time, Amount, Class 외에는 Vn 형태로 가려져있음)\n",
        "raw_data.columns"
      ],
      "metadata": {
        "id": "ClnZwe7W8mnQ"
      },
      "execution_count": null,
      "outputs": []
    },
    {
      "cell_type": "code",
      "source": [
        "# Fraud 비율이 0.17%라서 Class의 불균형이 극심함\n",
        "frauds_rate = round(raw_data['Class'].value_counts()[1]/len(raw_data) * 100, 2)\n",
        "print('Frauds', frauds_rate, '% of the dataset')"
      ],
      "metadata": {
        "id": "nYpg8zH_818H"
      },
      "execution_count": null,
      "outputs": []
    },
    {
      "cell_type": "code",
      "source": [
        "# countplot을 통해 얼마나 차이가 나는지 확인\n",
        "import seaborn as sns\n",
        "import matplotlib.pyplot as plt\n",
        "\n",
        "sns.countplot(data=raw_data, x='Class')\n",
        "plt.title('Class Distributions \\n (0: No Fraud || 1: Fraud)', fontsize=14)\n",
        "plt.show()"
      ],
      "metadata": {
        "id": "tkwAOzmt8mpO"
      },
      "execution_count": null,
      "outputs": []
    },
    {
      "cell_type": "code",
      "source": [
        "# 상태 확인 겸 학습을 시작해보기 위해 특성(X)과 라벨(y) 변수 준비\n",
        "X = raw_data.iloc[:, 1:-1]\n",
        "y = raw_data.iloc[:, -1]\n",
        "\n",
        "X.shape, y.shape"
      ],
      "metadata": {
        "id": "dkZ4KE1J8mrj"
      },
      "execution_count": null,
      "outputs": []
    },
    {
      "cell_type": "code",
      "source": [
        "# 훈련용과 검증용 데이터를 7:3로 나누기\n",
        "from sklearn.model_selection import train_test_split\n",
        "\n",
        "X_train, X_test, y_train, y_test = \\\n",
        "train_test_split(X, y, test_size=0.3, random_state=13, stratify=y)"
      ],
      "metadata": {
        "id": "hpUsdC5D8mtp"
      },
      "execution_count": null,
      "outputs": []
    },
    {
      "cell_type": "code",
      "source": [
        "# 데이터의 비율이 잘 나누어졌는지 확인\n",
        "import numpy as np\n",
        "\n",
        "np.unique(y_train, return_counts=True)"
      ],
      "metadata": {
        "id": "jkSFi3kj8mvw"
      },
      "execution_count": null,
      "outputs": []
    },
    {
      "cell_type": "code",
      "source": [
        "tmp = np.unique(y_train, return_counts=True)[1]\n",
        "tmp[1]/len(y_train) * 100"
      ],
      "metadata": {
        "id": "ZXAFoKUD8myG"
      },
      "execution_count": null,
      "outputs": []
    },
    {
      "cell_type": "code",
      "source": [
        "np.unique(y_test, return_counts=True)"
      ],
      "metadata": {
        "id": "1fKrGgc-_mA5"
      },
      "execution_count": null,
      "outputs": []
    },
    {
      "cell_type": "code",
      "source": [
        "tmp = np.unique(y_test, return_counts=True)[1]\n",
        "tmp[1]/len(y_test) * 100"
      ],
      "metadata": {
        "id": "pLmNEEeD8m0c"
      },
      "execution_count": null,
      "outputs": []
    },
    {
      "cell_type": "code",
      "source": [
        "# 재사용성을 위해 모델의 성능 지표를 반환하는 함수를 미리 준비\n",
        "from sklearn.metrics import confusion_matrix, accuracy_score, precision_score\n",
        "from sklearn.metrics import recall_score, f1_score, roc_auc_score\n",
        "\n",
        "def get_clf_eval(y_test, pred):\n",
        "  acc = accuracy_score(y_test, pred)\n",
        "  pre = precision_score(y_test, pred)\n",
        "  re = recall_score(y_test, pred)\n",
        "  f1 = f1_score_score(y_test, pred)\n",
        "  auc = roc_auc_score(y_test, pred)\n",
        "\n",
        "  return acc, pre, re, f1, auc"
      ],
      "metadata": {
        "id": "TA1F6bZ98m2k"
      },
      "execution_count": null,
      "outputs": []
    },
    {
      "cell_type": "code",
      "source": [
        "# 모델의 성능지표를 print하는 함수도 미리 준비\n",
        "def print_clf_eval(y_test, pred):\n",
        "  confusion = confusion_matrix(y_test, pred)\n",
        "  acc, pre, re, f1, auc = get_clf_eval(y_test, pred)\n",
        "\n",
        "  print(\"=> 오차 행렬\")\n",
        "  print(confusion)\n",
        "  print(\"==========\")\n",
        "\n",
        "  print(\"정확도: {0:.4f}, 정밀도: {1:.4f}\".format(acc, pre))\n",
        "  print(\"재현율: {0:.4f}, F1: {1:.4f}, AUC: {2:.4f}\".format(re, f1, auc))"
      ],
      "metadata": {
        "id": "hZiEMMMS8m42"
      },
      "execution_count": null,
      "outputs": []
    },
    {
      "cell_type": "code",
      "source": [
        "# 로지스틱 회귀\n",
        "from sklearn.linear_model import LogisticRegression\n",
        "\n",
        "lr_clf = LogisticRegression(random_state=13, solver='liblinear')\n",
        "lr_clf.fit(X_train, y_train)\n",
        "lr_pred = lr.clf.predict(X_test)\n",
        "\n",
        "print_clf_eval(y_test, lr_pred)"
      ],
      "metadata": {
        "id": "BOnEv4KlCwqf"
      },
      "execution_count": null,
      "outputs": []
    },
    {
      "cell_type": "code",
      "source": [
        "# 결정 나무\n",
        "from sklearn.tree import DecisionTreeClassifier\n",
        "\n",
        "dt_clf = DecisionTreeClassifier(random_state=13, max_depth=3)\n",
        "dt_clf.fit(X_train, y_train)\n",
        "dt_pred = dt_clf.predict(X_test)\n",
        "\n",
        "print_clf_eval(y_test, dt_pred)"
      ],
      "metadata": {
        "id": "qJUzYs8h8m9X"
      },
      "execution_count": null,
      "outputs": []
    },
    {
      "cell_type": "code",
      "source": [
        "# 랜덤 포레스트(앙상블 기법)\n",
        "from sklearn.ensemble import RandomForestClassifier\n",
        "\n",
        "rf_clf = RandomForestClassifier(random_state=13, n_jobs=1, n_estimators=100)\n",
        "rf_clf.fit(X_train, y_train)\n",
        "rf_pred = rf_clf.predict(X_test)\n",
        "\n",
        "print_clf_eval(y_test, rf_pred)"
      ],
      "metadata": {
        "id": "M8Rfw6v48nAI"
      },
      "execution_count": null,
      "outputs": []
    },
    {
      "cell_type": "code",
      "source": [
        "# Light GBM(앙상블 기법)\n",
        "from lightgbm import LGBMClassifier\n",
        "\n",
        "lgbm_clf = LGBMClassifier(n_estimators=1000, num_leaves=64, n_jobs=1,\n",
        "                          boost_from_average=False, verbose=-1)\n",
        "lgbm_clf.fit(X_train, y_train)\n",
        "lgbm_pred = lgbm_clf.predict(X_test)\n",
        "\n",
        "print_clf_eval(y_test, lgbm_pred)"
      ],
      "metadata": {
        "id": "nVz3N9ss8nDB"
      },
      "execution_count": null,
      "outputs": []
    },
    {
      "cell_type": "code",
      "source": [
        "# 미리 학습한 후 모델 성능지표를 반환하는 함수 준비\n",
        "def get_result(model, X_train, y_train, X_test, y_test):\n",
        "  model.fit(X_train, y_train)\n",
        "  pred = model.predict(X_test)\n",
        "\n",
        "  return get_clf_eval(y_test, pred)"
      ],
      "metadata": {
        "id": "ILlHiYr48nFV"
      },
      "execution_count": null,
      "outputs": []
    },
    {
      "cell_type": "code",
      "source": [
        "# 여러 모델의 성능을 쉽게 비교하도록 DataFrame으로 만드는 함수 준비\n",
        "models = [lr_clf, dt_clf, lgbm_clf]\n",
        "model_names = ['LogisticReg', 'DecisionTree', 'LightGBM']\n",
        "\n",
        "def get_result_pd(models, model_names, X_train, y_train, X_test, y_test):\n",
        "  col_names = ['accuracy', 'precision', 'recall', 'f1', 'roc_auc']\n",
        "  tmp = []\n",
        "\n",
        "  for model in models:\n",
        "    tmp.append(get_result(model, X_train, y_train, X_test, y_test))\n",
        "\n",
        "  return pd.DataFrame(tmp, columns=col_names, index=model_names)\n",
        "\n",
        "results = get_result_pd(models, model_names, X_train, y_train, X_test, y_test)\n",
        "results"
      ],
      "metadata": {
        "id": "Eyw8tc6S8nHr"
      },
      "execution_count": null,
      "outputs": []
    },
    {
      "cell_type": "code",
      "source": [
        "# 성과를 올릴 방법은 없을까? 거래량을 의미하는 Amount를 다시 들여다보자\n",
        "plt.figure(figsize=(10,5))\n",
        "sns.distplot(raw_data['Amount'], color='r')\n",
        "\n",
        "plt.show()"
      ],
      "metadata": {
        "id": "ndnHiZd_GIJ7"
      },
      "execution_count": null,
      "outputs": []
    },
    {
      "cell_type": "code",
      "source": [
        "# Amount 컬럼에 StandardScaler를 적용하면 어떨까\n",
        "from sklearn.preprocessing import StandardScaler\n",
        "\n",
        "scaler = StandardScaler()\n",
        "amount_n = scaler.fit_transform(raw_data['Amount'].values.reshape(-1, 1))\n",
        "\n",
        "raw_data_copy = raw_data.iloc[:, 1:-2]\n",
        "raw_data_copy['Amount_Scaled'] = amount_n\n",
        "raw_data_copy.head()"
      ],
      "metadata": {
        "id": "Sxqo5G1bGIMP"
      },
      "execution_count": null,
      "outputs": []
    },
    {
      "cell_type": "code",
      "source": [
        "# distplot 적용\n",
        "plt.figure(figsize=(10,5))\n",
        "sns.distplot(raw_data_copy['Amount_Scaled'], color='r')\n",
        "\n",
        "plt.show()"
      ],
      "metadata": {
        "id": "j56dtU2xGIOl"
      },
      "execution_count": null,
      "outputs": []
    },
    {
      "cell_type": "code",
      "source": [
        "# 다시 데이터를 훈련용과 테스트용으로 나누기\n",
        "X = raw_data_copy\n",
        "\n",
        "X_train, X_test, y_train, y_test = \\\n",
        "train_test_split(X, y, test_size=0.3, random_state=13, stratify=y)"
      ],
      "metadata": {
        "id": "0rO82bYZGIQa"
      },
      "execution_count": null,
      "outputs": []
    },
    {
      "cell_type": "code",
      "source": [
        "# 로지스틱 회귀, 결정나무, LightGBM 성과 확인해보기 (성능 변화는 거의 없음)\n",
        "models = [lr_clf, dt_clf, lgbm_clf]\n",
        "model_names = ['LogisticReg', 'DecisionTree', 'LightGBM']\n",
        "\n",
        "results = get_result_pd(models, model_names, X_train, y_train, X_test, y_test)\n",
        "results"
      ],
      "metadata": {
        "id": "ldrJzqO2GISf"
      },
      "execution_count": null,
      "outputs": []
    },
    {
      "cell_type": "code",
      "source": [
        "# ROC 커브를 그려서 모델 확인해보기\n",
        "from sklearn.metrics import roc_curve\n",
        "\n",
        "def draw_roc_curve(models, model_names, X_test, y_test):\n",
        "  plt.figure(figsize=(10,10))\n",
        "\n",
        "  for model in range(len(models)):\n",
        "    pred = models[model].predict_proba(X_test)[:, 1]\n",
        "    fpr, tpr, thresholds = roc_curve(y_Test, pred)\n",
        "    plt.plot(fpr, tpr, label=model_names[model])\n",
        "\n",
        "  plt.plot([0,1], [0,1], 'k--', label='random quess')\n",
        "  plt.title('ROC')\n",
        "  plt.legend()\n",
        "  plt.grid()\n",
        "  plt.show()\n",
        "\n",
        "draw_roc_curve(models, model_names, X_test, y_test)"
      ],
      "metadata": {
        "id": "Dy7utG3ZH3gW"
      },
      "execution_count": null,
      "outputs": []
    },
    {
      "cell_type": "code",
      "source": [
        "# 간단한 실험을 위한 데이터 준비\n",
        "samples = [1, 7, 9, 16, 36, 39, 45, 45, 46, 48, 51, 100, 101]\n",
        "tmp_y = [1] * len(samples)\n",
        "tmp_y"
      ],
      "metadata": {
        "id": "e5S95VHMH3iN"
      },
      "execution_count": null,
      "outputs": []
    },
    {
      "cell_type": "code",
      "source": [
        "# 간단한 박스플롯 실험을 위한 데이터의 scatter 그림\n",
        "plt.figure(figsize=(12,4))\n",
        "plt.scatter(samples, tmp_y)\n",
        "plt.grid()\n",
        "plt.show()"
      ],
      "metadata": {
        "id": "h1UHdxCHH3kQ"
      },
      "execution_count": null,
      "outputs": []
    },
    {
      "cell_type": "code",
      "source": [
        "# numpy를 이용한 몇몇 지표 확인\n",
        "np.median(samples)"
      ],
      "metadata": {
        "id": "IFlSWJZOH3mF"
      },
      "execution_count": null,
      "outputs": []
    },
    {
      "cell_type": "code",
      "source": [
        "np.percentile(samples, 25)"
      ],
      "metadata": {
        "id": "jwC5RoruKmdQ"
      },
      "execution_count": null,
      "outputs": []
    },
    {
      "cell_type": "code",
      "source": [
        "np.percentile(samples, 75)"
      ],
      "metadata": {
        "id": "E16708cpKmfV"
      },
      "execution_count": null,
      "outputs": []
    },
    {
      "cell_type": "code",
      "source": [
        "np.percentile(samples, 75) - np.percentile(samples, 25)"
      ],
      "metadata": {
        "id": "PBvvoZ6yKmha"
      },
      "execution_count": null,
      "outputs": []
    },
    {
      "cell_type": "code",
      "source": [
        "iqr = np.percentile(samples, 75) - np.percentile(samples, 25)\n",
        "iqr * 1.5"
      ],
      "metadata": {
        "id": "N__ZAHuSKmjf"
      },
      "execution_count": null,
      "outputs": []
    },
    {
      "cell_type": "code",
      "source": [
        "# boxplot 직접 그리기 코드\n",
        "q1 = np.percentile(samples, 25)\n",
        "q2 = np.median(samples)\n",
        "q3 = np.percentile(samples, 75)\n",
        "upper_fence = q3 + iqr * 1.5\n",
        "lower_fence = q1 - iqr * 1.5"
      ],
      "metadata": {
        "id": "uXLDfAwmKmlU"
      },
      "execution_count": null,
      "outputs": []
    },
    {
      "cell_type": "code",
      "source": [
        "plt.figure(figsize=(12,4))\n",
        "plt.scatter(samples, tmp_y)\n",
        "plt.axvline(x=q1, color='black')\n",
        "plt.axvline(x=q2, color='red')\n",
        "plt.axvline(x=q3, color='black')\n",
        "plt.axvline(x=upper_fence, color='black', ls='dashed')\n",
        "plt.axvline(x=lower_fence, color='black', ls='dashed')\n",
        "plt.grid()\n",
        "plt.show()"
      ],
      "metadata": {
        "id": "PPUcQneyK28x"
      },
      "execution_count": null,
      "outputs": []
    },
    {
      "cell_type": "code",
      "source": [
        "# 그냥 boxplot\n",
        "plt.figure(figsize=(2,4))\n",
        "sns.boxplot(samples)\n",
        "plt.grid()\n",
        "plt.show()"
      ],
      "metadata": {
        "id": "1GvgAvapK2-j"
      },
      "execution_count": null,
      "outputs": []
    },
    {
      "cell_type": "code",
      "source": [
        "# card 데이터도 boxplot 그려보자\n",
        "plt.figure(figsize=(10,7))\n",
        "sns.boxplot(data=raw_data[['V13', 'V14', 'V15']])"
      ],
      "metadata": {
        "id": "qFzj7-ZSLa2a"
      },
      "execution_count": null,
      "outputs": []
    },
    {
      "cell_type": "code",
      "source": [
        "# outlier의 인덱스를 찾기 위한 코드\n",
        "def get_outlier(df=None, column=None, weight=1.5):\n",
        "  fraud = df[df['Class']==1][column]\n",
        "  quantile_25 = np.percentile(fraud.values, 25)\n",
        "  quantile_75 = np.percentile(fraud.values, 75)\n",
        "\n",
        "  iqr = quantile_75 - quantile_25\n",
        "  iqr_weight = iqr * weight\n",
        "  lowest_val = quantile_25 - iqr_weight\n",
        "  highest_val = quantile_75 + iqr_weight\n",
        "\n",
        "  outlier_index = frad[(fraud < lowest_val) | (fraud > highest_val)].index\n",
        "\n",
        "  return outlier_index"
      ],
      "metadata": {
        "id": "uSdKm0GxLa4f"
      },
      "execution_count": null,
      "outputs": []
    },
    {
      "cell_type": "code",
      "source": [
        "# outlier 제거\n",
        "get_outlier(df=raw_data, column='V14', weight=1.5)"
      ],
      "metadata": {
        "id": "XPrDG6oOLa6j"
      },
      "execution_count": null,
      "outputs": []
    },
    {
      "cell_type": "code",
      "source": [
        "raw_data_copy.shape"
      ],
      "metadata": {
        "id": "bnuSkEKYH3n9"
      },
      "execution_count": null,
      "outputs": []
    },
    {
      "cell_type": "code",
      "source": [
        "outlier_index = get_outlier(df=raw_data, column='V14', weight=1.5)\n",
        "raw_data_copy.drop(outlier_index, axis=0, inplace=True)\n",
        "raw_data_copy.shape"
      ],
      "metadata": {
        "id": "XuWGXro9M7M4"
      },
      "execution_count": null,
      "outputs": []
    },
    {
      "cell_type": "code",
      "source": [
        "# X, y, 훈련용 실험용 데이터 다시 선정\n",
        "X = raw_data_copy\n",
        "\n",
        "raw_data.drop(outlier_index, axis=0, inplace=True)\n",
        "y = raw_data.iloc[:, -1]\n",
        "\n",
        "X_train, X_test, y_train, y_test = \\\n",
        "train_test_split(X, y, test_size=0.3, random_state=13, stratify=y)"
      ],
      "metadata": {
        "id": "cCLaGzd1M7RC"
      },
      "execution_count": null,
      "outputs": []
    },
    {
      "cell_type": "code",
      "source": [
        "# 다시 학습\n",
        "models = [lr_clf, dt_clf, lgbm_clf]\n",
        "model_names = ['LinearReg', 'DecisionTree', 'LightGBM']\n",
        "\n",
        "results = get_result_pd(models, model_names, X_train, y_train, X_test, y_test)\n",
        "results"
      ],
      "metadata": {
        "id": "1PPL0LkJM7YT"
      },
      "execution_count": null,
      "outputs": []
    },
    {
      "cell_type": "code",
      "source": [
        "# ROC Curve\n",
        "draw_roc_curve(models, model_names, X_test, y_test)"
      ],
      "metadata": {
        "id": "ikKrY54XNfdc"
      },
      "execution_count": null,
      "outputs": []
    }
  ]
}