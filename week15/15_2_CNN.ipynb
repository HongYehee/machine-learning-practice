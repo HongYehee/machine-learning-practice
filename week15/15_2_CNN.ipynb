{
  "cells": [
    {
      "cell_type": "code",
      "execution_count": 1,
      "metadata": {
        "id": "oUz37docpCpe"
      },
      "outputs": [],
      "source": [
        "import tensorflow as tf\n",
        "from tensorflow import keras \n",
        "import numpy as np\n",
        "import matplotlib.pyplot as plt\n",
        "\n",
        "# keras의 데이터셋의 패션 MNIST 데이터를 학습용, 테스트 데이터로 구분\n",
        "fashion_mnist = keras.datasets.fashion_mnist \n",
        "(train_images, train_labels), (test_images, test_labels) =\\\n",
        "fashion_mnist.load_data()"
      ]
    },
    {
      "cell_type": "code",
      "execution_count": 2,
      "metadata": {
        "colab": {
          "base_uri": "https://localhost:8080/",
          "height": 190
        },
        "id": "KPemI_vapptR",
        "outputId": "d5c2cfad-55d0-4650-cdf2-c22bb24c59bb"
      },
      "outputs": [
        {
          "data": {
            "text/plain": [
              "<matplotlib.image.AxesImage at 0x7f66e99a4b20>"
            ]
          },
          "execution_count": 2,
          "metadata": {},
          "output_type": "execute_result"
        },
        {
          "data": {
            "image/png": "[encoded data removed]",
            "text/plain": [
              "<Figure size 640x480 with 4 Axes>"
            ]
          },
          "metadata": {},
          "output_type": "display_data"
        }
      ],
      "source": [
        "fig = plt.figure()\n",
        "ax1 = fig.add_subplot(1, 4, 1)\n",
        "ax2 = fig.add_subplot(1, 4, 2)\n",
        "ax3 = fig.add_subplot(1, 4, 3)\n",
        "ax4 = fig.add_subplot(1, 4, 4)\n",
        "\n",
        "ax1.imshow(train_images[0], cmap='Greys') # 첫 번째 훈련용 데이터\n",
        "ax2.imshow(train_images[1], cmap='Greys') # 두 번째 훈련용 데이터\n",
        "ax3.imshow(train_images[2], cmap='Greys') # 세 번째 훈련용 데이터\n",
        "ax4.imshow(train_images[3], cmap='Greys') # 네 번째 훈련용 데이터"
      ]
    },
    {
      "cell_type": "code",
      "execution_count": 3,
      "metadata": {
        "colab": {
          "base_uri": "https://localhost:8080/"
        },
        "id": "2k7TnNsCptpQ",
        "outputId": "06fd94e2-b0ee-4c8f-a244-ac32b33fcbba"
      },
      "outputs": [
        {
          "name": "stdout",
          "output_type": "stream",
          "text": [
            "[9 0 0 3]\n"
          ]
        }
      ],
      "source": [
        "print(train_labels[:4])"
      ]
    },
    {
      "cell_type": "code",
      "execution_count": 4,
      "metadata": {
        "colab": {
          "base_uri": "https://localhost:8080/"
        },
        "id": "kk6VjHOdp-Jv",
        "outputId": "4cd85174-af32-458b-8a7a-62775de823ae"
      },
      "outputs": [
        {
          "name": "stdout",
          "output_type": "stream",
          "text": [
            "9 : Ankle_boot\n",
            "0 : T-shirt\n",
            "0 : T-shirt\n",
            "3 : Dress\n"
          ]
        }
      ],
      "source": [
        "mnist_lbl = ['T-shirt', 'Trouser', 'Pullover', 'Dress', 'Coat',\n",
        "             'Sandal', 'Shirt', 'Sneaker', 'Bag', 'Ankle_boot']\n",
        "\n",
        "labels = train_labels[:4]\n",
        "for i in labels:\n",
        "    print('{} : {}'.format(i, mnist_lbl[i]))"
      ]
    },
    {
      "cell_type": "code",
      "execution_count": 5,
      "metadata": {
        "colab": {
          "base_uri": "https://localhost:8080/",
          "height": 195
        },
        "id": "CJ2oPmOtpMLI",
        "outputId": "9fb3bb67-f127-4fd7-edbf-9e92953e1623"
      },
      "outputs": [
        {
          "data": {
            "text/plain": [
              "Text(0, 0, 'Dress')"
            ]
          },
          "execution_count": 5,
          "metadata": {},
          "output_type": "execute_result"
        },
        {
          "data": {
            "image/png": "[encoded data removed]",
            "text/plain": [
              "<Figure size 640x480 with 4 Axes>"
            ]
          },
          "metadata": {},
          "output_type": "display_data"
        }
      ],
      "source": [
        "fig = plt.figure()\n",
        "ax1 = fig.add_subplot(1, 4, 1)\n",
        "ax2 = fig.add_subplot(1, 4, 2)\n",
        "ax3 = fig.add_subplot(1, 4, 3)\n",
        "ax4 = fig.add_subplot(1, 4, 4)\n",
        "\n",
        "ax1.imshow(train_images[0], cmap='Greys') # 첫 번째 훈련용 데이터\n",
        "ax2.imshow(train_images[1], cmap='Greys') # 두 번째 훈련용 데이터\n",
        "ax3.imshow(train_images[2], cmap='Greys') # 세 번째 훈련용 데이터\n",
        "ax4.imshow(train_images[3], cmap='Greys') # 네 번째 훈련용 데이터\n",
        "\n",
        "ax1.text(0, 0, mnist_lbl[train_labels[0]], bbox={'facecolor': 'white'})\n",
        "ax2.text(0, 0, mnist_lbl[train_labels[1]], bbox={'facecolor': 'white'})\n",
        "ax3.text(0, 0, mnist_lbl[train_labels[2]], bbox={'facecolor': 'white'})\n",
        "ax4.text(0, 0, mnist_lbl[train_labels[3]], bbox={'facecolor': 'white'})"
      ]
    },
    {
      "cell_type": "code",
      "execution_count": 6,
      "metadata": {
        "colab": {
          "base_uri": "https://localhost:8080/"
        },
        "id": "7QgrqRzepz9A",
        "outputId": "04cf1b7b-a14c-414d-e18a-72a27144a0e8"
      },
      "outputs": [
        {
          "name": "stdout",
          "output_type": "stream",
          "text": [
            "Epoch 1/10\n",
            "1875/1875 [==============================] - 20s 10ms/step - loss: 0.4853 - accuracy: 0.8244\n",
            "Epoch 2/10\n",
            "1875/1875 [==============================] - 12s 6ms/step - loss: 0.3621 - accuracy: 0.8665\n",
            "Epoch 3/10\n",
            "1875/1875 [==============================] - 11s 6ms/step - loss: 0.3277 - accuracy: 0.8781\n",
            "Epoch 4/10\n",
            "1875/1875 [==============================] - 11s 6ms/step - loss: 0.3049 - accuracy: 0.8870\n",
            "Epoch 5/10\n",
            "1875/1875 [==============================] - 11s 6ms/step - loss: 0.2848 - accuracy: 0.8929\n",
            "Epoch 6/10\n",
            "1875/1875 [==============================] - 11s 6ms/step - loss: 0.2724 - accuracy: 0.8979\n",
            "Epoch 7/10\n",
            "1875/1875 [==============================] - 10s 5ms/step - loss: 0.2611 - accuracy: 0.9024\n",
            "Epoch 8/10\n",
            "1875/1875 [==============================] - 11s 6ms/step - loss: 0.2518 - accuracy: 0.9056\n",
            "Epoch 9/10\n",
            "1875/1875 [==============================] - 11s 6ms/step - loss: 0.2399 - accuracy: 0.9094\n",
            "Epoch 10/10\n",
            "1875/1875 [==============================] - 11s 6ms/step - loss: 0.2279 - accuracy: 0.9145\n",
            "313/313 - 1s - loss: 0.3391 - accuracy: 0.8866 - 815ms/epoch - 3ms/step\n",
            "\n",
            "테스트 정확도: 0.8866000175476074\n"
          ]
        }
      ],
      "source": [
        "model = keras.Sequential([\n",
        "    keras.layers.Flatten(input_shape=(28, 28)),\n",
        "    keras.layers.Dense(256, activation='relu'),\n",
        "    keras.layers.Dense(128, activation='relu'),\n",
        "    keras.layers.Dense(100, activation='relu'),\n",
        "    keras.layers.Dense(10, activation='softmax')\n",
        "])\n",
        "\n",
        "model.compile(optimizer='adam',\n",
        "              loss='sparse_categorical_crossentropy',\n",
        "              metrics=['accuracy'])\n",
        "\n",
        "train_images, test_images = train_images / 255, test_images / 255\n",
        "model.fit(train_images, train_labels, epochs=10)\n",
        "\n",
        "test_loss, test_acc = model.evaluate(test_images, test_labels,\\\n",
        "                                     verbose=2)\n",
        "print('\\n테스트 정확도:', test_acc)"
      ]
    },
    {
      "cell_type": "code",
      "execution_count": 7,
      "metadata": {
        "id": "rwecE7Wby40J"
      },
      "outputs": [],
      "source": [
        "train_images = train_images[:, :, :, np.newaxis]\n",
        "test_images = test_images[:, :, :, np.newaxis]"
      ]
    },
    {
      "cell_type": "code",
      "execution_count": 8,
      "metadata": {
        "id": "tepypPRsy97p"
      },
      "outputs": [],
      "source": [
        "model = keras.models.Sequential( [\n",
        "    keras.layers.Conv2D(input_shape = (28, 28, 1),\n",
        "                        kernel_size = (3,3), padding = 'same', \n",
        "                        filters = 32),\n",
        "    keras.layers.MaxPooling2D((2, 2), strides=2),\n",
        "    keras.layers.Conv2D(kernel_size = (3,3), padding ='same', \n",
        "                        filters = 64),\n",
        "    keras.layers.MaxPooling2D((2, 2), strides=2),\n",
        "    keras.layers.Conv2D(kernel_size = (3,3), padding = 'same', \n",
        "                        filters = 32),\n",
        "    keras.layers.Flatten(),\n",
        "    keras.layers.Dense(128, activation = 'relu'),\n",
        "    keras.layers.Dense(32, activation = 'relu'),\n",
        "    keras.layers.Dense(10, activation = 'softmax'),\n",
        "])"
      ]
    },
    {
      "cell_type": "code",
      "execution_count": 9,
      "metadata": {
        "colab": {
          "base_uri": "https://localhost:8080/"
        },
        "id": "1V8hmGLIzDZJ",
        "outputId": "50ce74cc-a51a-419c-f79f-415c2717bdd9"
      },
      "outputs": [
        {
          "name": "stdout",
          "output_type": "stream",
          "text": [
            "Model: \"sequential_1\"\n",
            "_________________________________________________________________\n",
            " Layer (type)                Output Shape              Param #   \n",
            "=================================================================\n",
            " conv2d (Conv2D)             (None, 28, 28, 32)        320       \n",
            "                                                                 \n",
            " max_pooling2d (MaxPooling2D  (None, 14, 14, 32)       0         \n",
            " )                                                               \n",
            "                                                                 \n",
            " conv2d_1 (Conv2D)           (None, 14, 14, 64)        18496     \n",
            "                                                                 \n",
            " max_pooling2d_1 (MaxPooling  (None, 7, 7, 64)         0         \n",
            " 2D)                                                             \n",
            "                                                                 \n",
            " conv2d_2 (Conv2D)           (None, 7, 7, 32)          18464     \n",
            "                                                                 \n",
            " flatten_1 (Flatten)         (None, 1568)              0         \n",
            "                                                                 \n",
            " dense_4 (Dense)             (None, 128)               200832    \n",
            "                                                                 \n",
            " dense_5 (Dense)             (None, 32)                4128      \n",
            "                                                                 \n",
            " dense_6 (Dense)             (None, 10)                330       \n",
            "                                                                 \n",
            "=================================================================\n",
            "Total params: 242,570\n",
            "Trainable params: 242,570\n",
            "Non-trainable params: 0\n",
            "_________________________________________________________________\n"
          ]
        }
      ],
      "source": [
        "model.summary()"
      ]
    },
    {
      "cell_type": "code",
      "execution_count": 10,
      "metadata": {
        "colab": {
          "base_uri": "https://localhost:8080/"
        },
        "id": "tstEja6kzHs7",
        "outputId": "9fe9f27e-d256-4cdc-b882-b2ca811753b4"
      },
      "outputs": [
        {
          "name": "stdout",
          "output_type": "stream",
          "text": [
            "Epoch 1/5\n",
            "1407/1407 [==============================] - 81s 57ms/step - loss: 0.4489 - accuracy: 0.8384 - val_loss: 0.3183 - val_accuracy: 0.8855\n",
            "Epoch 2/5\n",
            "1407/1407 [==============================] - 85s 61ms/step - loss: 0.2970 - accuracy: 0.8905 - val_loss: 0.2795 - val_accuracy: 0.8979\n",
            "Epoch 3/5\n",
            "1407/1407 [==============================] - 88s 63ms/step - loss: 0.2543 - accuracy: 0.9067 - val_loss: 0.2581 - val_accuracy: 0.9067\n",
            "Epoch 4/5\n",
            "1407/1407 [==============================] - 95s 67ms/step - loss: 0.2187 - accuracy: 0.9184 - val_loss: 0.2602 - val_accuracy: 0.9073\n",
            "Epoch 5/5\n",
            "1407/1407 [==============================] - 92s 65ms/step - loss: 0.1907 - accuracy: 0.9288 - val_loss: 0.2664 - val_accuracy: 0.9068\n"
          ]
        }
      ],
      "source": [
        "model.compile(optimizer='adam',\n",
        "              loss='sparse_categorical_crossentropy',\n",
        "              metrics=['accuracy'])\n",
        "hist = model.fit(train_images, train_labels,\n",
        "                 epochs=5, validation_split=0.25)"
      ]
    },
    {
      "cell_type": "code",
      "execution_count": 11,
      "metadata": {
        "colab": {
          "base_uri": "https://localhost:8080/",
          "height": 448
        },
        "id": "YmwrR4NpzWQz",
        "outputId": "617b9b5d-e57a-4156-8107-07aa288ecb69"
      },
      "outputs": [
        {
          "data": {
            "text/plain": [
              "[<matplotlib.lines.Line2D at 0x7f66ea8bf1f0>]"
            ]
          },
          "execution_count": 11,
          "metadata": {},
          "output_type": "execute_result"
        },
        {
          "data": {
            "image/png": "[encoded data removed]",
            "text/plain": [
              "<Figure size 640x480 with 1 Axes>"
            ]
          },
          "metadata": {},
          "output_type": "display_data"
        }
      ],
      "source": [
        "plt.plot(hist.history['accuracy'], 'b-')\n",
        "plt.plot(hist.history['val_accuracy'], 'r--')"
      ]
    },
    {
      "cell_type": "code",
      "execution_count": 12,
      "metadata": {
        "colab": {
          "base_uri": "https://localhost:8080/"
        },
        "id": "kYCmg5Mczelx",
        "outputId": "b0ac4187-bdf8-49cb-a83e-0fda981ee4b0"
      },
      "outputs": [
        {
          "name": "stdout",
          "output_type": "stream",
          "text": [
            "313/313 - 6s - loss: 0.2783 - accuracy: 0.9041 - 6s/epoch - 18ms/step\n",
            "테스트 정확도: 0.9041000008583069\n"
          ]
        }
      ],
      "source": [
        "test_loss, test_acc = model.evaluate(test_images,  test_labels,\\\n",
        "                                     verbose=2)\n",
        "print('테스트 정확도:', test_acc)"
      ]
    },
    {
      "cell_type": "code",
      "execution_count": 13,
      "metadata": {
        "colab": {
          "base_uri": "https://localhost:8080/"
        },
        "id": "2hlST357znty",
        "outputId": "6fcd4449-cf7d-4dc3-f2f6-f0c74dae84e4"
      },
      "outputs": [
        {
          "name": "stdout",
          "output_type": "stream",
          "text": [
            "1/1 [==============================] - 0s 139ms/step\n",
            "예측값 = [9 2 1 1 6 1 4 6 5 7 4 5 7 3 4 1 2 4 8 0 2 5 7 5 1]\n",
            "실제값 = [9 2 1 1 6 1 4 6 5 7 4 5 7 3 4 1 2 4 8 0 2 5 7 9 1]\n"
          ]
        }
      ],
      "source": [
        "mnist_lbl = ['T-shirt', 'Trouser', 'Pullover', 'Dress', 'Coat',\n",
        "             'Sandal', 'Shirt', 'Sneaker', 'Bag', 'Ankle_boot']\n",
        "\n",
        "images = test_images[:25]\n",
        "pred = np.argmax(model.predict(images), axis=1)\n",
        "print('예측값 =', pred)\n",
        "print('실제값 =', test_labels[:25])"
      ]
    },
    {
      "cell_type": "code",
      "execution_count": 14,
      "metadata": {
        "colab": {
          "base_uri": "https://localhost:8080/",
          "height": 474
        },
        "id": "UwmFpHk1Sxcy",
        "outputId": "8182840d-7424-4ad7-d10f-bc1e7841cd04"
      },
      "outputs": [
        {
          "name": "stdout",
          "output_type": "stream",
          "text": [
            "313/313 [==============================] - 5s 15ms/step\n"
          ]
        },
        {
          "data": {
            "text/plain": [
              "<matplotlib.image.AxesImage at 0x7f66b9562e30>"
            ]
          },
          "execution_count": 14,
          "metadata": {},
          "output_type": "execute_result"
        },
        {
          "data": {
            "image/png": "[encoded data removed]",
            "text/plain": [
              "<Figure size 480x480 with 1 Axes>"
            ]
          },
          "metadata": {},
          "output_type": "display_data"
        }
      ],
      "source": [
        "from sklearn.metrics import confusion_matrix\n",
        "\n",
        "pred = np.argmax(model.predict(test_images), axis=1)\n",
        "conf_mat = confusion_matrix(pred, test_labels)\n",
        "plt.matshow(conf_mat)"
      ]
    },
    {
      "cell_type": "code",
      "execution_count": 15,
      "metadata": {
        "colab": {
          "base_uri": "https://localhost:8080/"
        },
        "id": "2r2Rq7wkTCig",
        "outputId": "0839b6c8-d368-4026-e0a9-e3b1f869a8ea"
      },
      "outputs": [
        {
          "name": "stdout",
          "output_type": "stream",
          "text": [
            "[[849   0  13  18   1   0  90   0   2   0]\n",
            " [  1 984   0   6   1   0   1   0   1   0]\n",
            " [ 20   1 884   7  92   0  75   0   2   0]\n",
            " [ 19  14  14 928  47   0  28   0   4   0]\n",
            " [  3   1  38  15 794   0  62   0   1   0]\n",
            " [  5   0   0   0   1 988   0  32   2  16]\n",
            " [ 97   0  48  24  62   0 738   0   5   0]\n",
            " [  1   0   0   0   0  10   0 948   5  32]\n",
            " [  5   0   3   2   2   0   6   0 977   1]\n",
            " [  0   0   0   0   0   2   0  20   1 951]]\n"
          ]
        }
      ],
      "source": [
        "print(conf_mat)"
      ]
    }
  ],
  "metadata": {
    "colab": {
      "provenance": []
    },
    "kernelspec": {
      "display_name": "Python 3",
      "name": "python3"
    },
    "language_info": {
      "name": "python"
    }
  },
  "nbformat": 4,
  "nbformat_minor": 0
}
