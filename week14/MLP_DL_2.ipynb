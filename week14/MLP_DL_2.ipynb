{
  "nbformat": 4,
  "nbformat_minor": 0,
  "metadata": {
    "colab": {
      "provenance": []
    },
    "kernelspec": {
      "name": "python3",
      "display_name": "Python 3"
    },
    "language_info": {
      "name": "python"
    }
  },
  "cells": [
    {
      "cell_type": "markdown",
      "source": [
        "# 14주차 실습: 딥러닝 플랫폼, 텐서플로"
      ],
      "metadata": {
        "id": "y2NKJ8yVeSBN"
      }
    },
    {
      "cell_type": "markdown",
      "source": [
        "## 붓꽃 데이터 분류에 딥러닝 적용하기"
      ],
      "metadata": {
        "id": "uWY7D9UQeh6g"
      }
    },
    {
      "cell_type": "code",
      "source": [
        "# 붓꽃 데이터 불러오기\n",
        "import numpy as np\n",
        "import tensorflow as tf\n",
        "from sklearn.datasets import load_iris\n",
        "\n",
        "iris_dataset = load_iris()"
      ],
      "metadata": {
        "id": "esK_zsBYIYU9"
      },
      "execution_count": 1,
      "outputs": []
    },
    {
      "cell_type": "code",
      "source": [
        "# 데이터 분리 및 형태 확인\n",
        "from sklearn.model_selection import train_test_split\n",
        "\n",
        "x_train, x_test, y_train, y_test = train_test_split(\n",
        "iris_dataset['data'], iris_dataset['target'], random_state=0, test_size=0.20)\n",
        "\n",
        "# 학습 데이터와 테스트 데이터의 형태와 개별 훈련 데이터의 형태를 살펴보기\n",
        "print('훈련용 데이터의 형태:', x_train.shape)\n",
        "print('훈련용 데이터의 레이블 형태:',y_train.shape)\n",
        "print('테스트용 데이터의 형태:', x_test.shape)\n",
        "print('테스트용 데이터의 레이블 형태:',y_test.shape)"
      ],
      "metadata": {
        "id": "MumGw5mIIYYe",
        "colab": {
          "base_uri": "https://localhost:8080/"
        },
        "outputId": "d2ae758f-5a85-4879-81ad-7df8ad79da08"
      },
      "execution_count": 2,
      "outputs": [
        {
          "output_type": "stream",
          "name": "stdout",
          "text": [
            "훈련용 데이터의 형태: (120, 4)\n",
            "훈련용 데이터의 레이블 형태: (120,)\n",
            "테스트용 데이터의 형태: (30, 4)\n",
            "테스트용 데이터의 레이블 형태: (30,)\n"
          ]
        }
      ]
    },
    {
      "cell_type": "code",
      "source": [
        "# 순차 모델 생성\n",
        "from tensorflow import keras\n",
        "\n",
        "model = keras.models.Sequential( [\n",
        "    keras.layers.Flatten(input_shape = (4,)),\n",
        "    keras.layers.Dense(60, activation= 'relu'),\n",
        "    keras.layers.Dense(3, activation= 'softmax'),\n",
        "])"
      ],
      "metadata": {
        "id": "4UzUBRcGIYb4"
      },
      "execution_count": 4,
      "outputs": []
    },
    {
      "cell_type": "code",
      "source": [
        "# 모델 컴파일\n",
        "model.compile(optimizer='adam',\\\n",
        "              loss='sparse_categorical_crossentropy',\\\n",
        "              metrics=['accuracy'])\n",
        "model.fit(x_train, y_train, epochs=30, batch_size=5, verbose=2)"
      ],
      "metadata": {
        "colab": {
          "base_uri": "https://localhost:8080/"
        },
        "id": "s3qHmOkUglJ7",
        "outputId": "4393602f-453f-4181-8b4e-72f4b31de333"
      },
      "execution_count": 5,
      "outputs": [
        {
          "output_type": "stream",
          "name": "stdout",
          "text": [
            "Epoch 1/30\n",
            "24/24 - 1s - loss: 1.2309 - accuracy: 0.3167 - 602ms/epoch - 25ms/step\n",
            "Epoch 2/30\n",
            "24/24 - 0s - loss: 0.9781 - accuracy: 0.3667 - 40ms/epoch - 2ms/step\n",
            "Epoch 3/30\n",
            "24/24 - 0s - loss: 0.8498 - accuracy: 0.6667 - 44ms/epoch - 2ms/step\n",
            "Epoch 4/30\n",
            "24/24 - 0s - loss: 0.7744 - accuracy: 0.7083 - 43ms/epoch - 2ms/step\n",
            "Epoch 5/30\n",
            "24/24 - 0s - loss: 0.6861 - accuracy: 0.7167 - 42ms/epoch - 2ms/step\n",
            "Epoch 6/30\n",
            "24/24 - 0s - loss: 0.6145 - accuracy: 0.8417 - 42ms/epoch - 2ms/step\n",
            "Epoch 7/30\n",
            "24/24 - 0s - loss: 0.5676 - accuracy: 0.7000 - 39ms/epoch - 2ms/step\n",
            "Epoch 8/30\n",
            "24/24 - 0s - loss: 0.5289 - accuracy: 0.8500 - 50ms/epoch - 2ms/step\n",
            "Epoch 9/30\n",
            "24/24 - 0s - loss: 0.4940 - accuracy: 0.8167 - 41ms/epoch - 2ms/step\n",
            "Epoch 10/30\n",
            "24/24 - 0s - loss: 0.4802 - accuracy: 0.7333 - 44ms/epoch - 2ms/step\n",
            "Epoch 11/30\n",
            "24/24 - 0s - loss: 0.4576 - accuracy: 0.9250 - 38ms/epoch - 2ms/step\n",
            "Epoch 12/30\n",
            "24/24 - 0s - loss: 0.4332 - accuracy: 0.8000 - 42ms/epoch - 2ms/step\n",
            "Epoch 13/30\n",
            "24/24 - 0s - loss: 0.4111 - accuracy: 0.9583 - 41ms/epoch - 2ms/step\n",
            "Epoch 14/30\n",
            "24/24 - 0s - loss: 0.3995 - accuracy: 0.9167 - 41ms/epoch - 2ms/step\n",
            "Epoch 15/30\n",
            "24/24 - 0s - loss: 0.3824 - accuracy: 0.8500 - 43ms/epoch - 2ms/step\n",
            "Epoch 16/30\n",
            "24/24 - 0s - loss: 0.3715 - accuracy: 0.9250 - 39ms/epoch - 2ms/step\n",
            "Epoch 17/30\n",
            "24/24 - 0s - loss: 0.3624 - accuracy: 0.9333 - 40ms/epoch - 2ms/step\n",
            "Epoch 18/30\n",
            "24/24 - 0s - loss: 0.3448 - accuracy: 0.9000 - 46ms/epoch - 2ms/step\n",
            "Epoch 19/30\n",
            "24/24 - 0s - loss: 0.3363 - accuracy: 0.9500 - 46ms/epoch - 2ms/step\n",
            "Epoch 20/30\n",
            "24/24 - 0s - loss: 0.3212 - accuracy: 0.9583 - 40ms/epoch - 2ms/step\n",
            "Epoch 21/30\n",
            "24/24 - 0s - loss: 0.3125 - accuracy: 0.9417 - 40ms/epoch - 2ms/step\n",
            "Epoch 22/30\n",
            "24/24 - 0s - loss: 0.3049 - accuracy: 0.9583 - 47ms/epoch - 2ms/step\n",
            "Epoch 23/30\n",
            "24/24 - 0s - loss: 0.2969 - accuracy: 0.9500 - 44ms/epoch - 2ms/step\n",
            "Epoch 24/30\n",
            "24/24 - 0s - loss: 0.2919 - accuracy: 0.9500 - 39ms/epoch - 2ms/step\n",
            "Epoch 25/30\n",
            "24/24 - 0s - loss: 0.2781 - accuracy: 0.9667 - 44ms/epoch - 2ms/step\n",
            "Epoch 26/30\n",
            "24/24 - 0s - loss: 0.2779 - accuracy: 0.9583 - 38ms/epoch - 2ms/step\n",
            "Epoch 27/30\n",
            "24/24 - 0s - loss: 0.2694 - accuracy: 0.9667 - 38ms/epoch - 2ms/step\n",
            "Epoch 28/30\n",
            "24/24 - 0s - loss: 0.2534 - accuracy: 0.9500 - 38ms/epoch - 2ms/step\n",
            "Epoch 29/30\n",
            "24/24 - 0s - loss: 0.2484 - accuracy: 0.9500 - 37ms/epoch - 2ms/step\n",
            "Epoch 30/30\n",
            "24/24 - 0s - loss: 0.2424 - accuracy: 0.9667 - 36ms/epoch - 2ms/step\n"
          ]
        },
        {
          "output_type": "execute_result",
          "data": {
            "text/plain": [
              "<keras.src.callbacks.History at 0x7a6469db4280>"
            ]
          },
          "metadata": {},
          "execution_count": 5
        }
      ]
    },
    {
      "cell_type": "code",
      "source": [
        "# 신경망 학습 결과\n",
        "print('신경망 모델의 학습 결과 :')\n",
        "eval_loss, eval_acc = model.evaluate(x_test, y_test)\n",
        "print('붓꽃 데이터의 분류 정확도 :', eval_acc)"
      ],
      "metadata": {
        "id": "FHLqIswFIYf9",
        "colab": {
          "base_uri": "https://localhost:8080/"
        },
        "outputId": "df6ea0b3-23bd-44de-810c-ac238cd11de4"
      },
      "execution_count": 7,
      "outputs": [
        {
          "output_type": "stream",
          "name": "stdout",
          "text": [
            "신경망 모델의 학습 결과 :\n",
            "1/1 [==============================] - 0s 40ms/step - loss: 0.2238 - accuracy: 1.0000\n",
            "붓꽃 데이터의 분류 정확도 : 1.0\n"
          ]
        }
      ]
    },
    {
      "cell_type": "code",
      "source": [
        "# 성능 향상을 위해 층을 추가\n",
        "model = keras.models.Sequential( [\n",
        "    keras.layers.Flatten(input_shape = (4,)),\n",
        "    keras.layers.Dense(60, activation= 'relu'),\n",
        "    keras.layers.Dense(30, activation= 'relu'), # 새롭게 추가한 층\n",
        "    keras.layers.Dense(3, activation= 'softmax'),\n",
        "])\n",
        "\n",
        "model.compile(optimizer='adam',\\\n",
        "              loss='sparse_categorical_crossentropy',\\\n",
        "              metrics=['accuracy'])\n",
        "hist = model.fit(x_train, y_train, epochs=30, batch_size=5, verbose=0)\n",
        "print('신경망 모델의 학습 결과 :')\n",
        "eval_loss, eval_acc = model.evaluate(x_test, y_test)\n",
        "print('붓꽃 데이터의 분류 정확도 :', eval_acc)"
      ],
      "metadata": {
        "id": "7NOYr5Y3IYjt",
        "colab": {
          "base_uri": "https://localhost:8080/"
        },
        "outputId": "a4c1396e-2283-4076-fd14-d6772672d9ca"
      },
      "execution_count": 8,
      "outputs": [
        {
          "output_type": "stream",
          "name": "stdout",
          "text": [
            "신경망 모델의 학습 결과 :\n",
            "1/1 [==============================] - 0s 166ms/step - loss: 0.0632 - accuracy: 1.0000\n",
            "붓꽃 데이터의 분류 정확도 : 1.0\n"
          ]
        }
      ]
    },
    {
      "cell_type": "code",
      "source": [
        "# 학습 과정에 따른 손실함수의 변화 출력\n",
        "import matplotlib.pyplot as plt\n",
        "\n",
        "plt.plot(hist.history['loss'], 'b-', label='loss value')\n",
        "plt.legend()"
      ],
      "metadata": {
        "id": "OyN4IeK6IYnd",
        "colab": {
          "base_uri": "https://localhost:8080/",
          "height": 448
        },
        "outputId": "20f06598-3e00-4400-f636-3154582d59b2"
      },
      "execution_count": 9,
      "outputs": [
        {
          "output_type": "execute_result",
          "data": {
            "text/plain": [
              "<matplotlib.legend.Legend at 0x7a646af76830>"
            ]
          },
          "metadata": {},
          "execution_count": 9
        },
        {
          "output_type": "display_data",
          "data": {
            "text/plain": [
              "<Figure size 640x480 with 1 Axes>"
            ],
            "image/png": "[encoded data removed]"
          },
          "metadata": {}
        }
      ]
    },
    {
      "cell_type": "code",
      "source": [
        "# 학습 과정에 따른 정확도의 변화 출력\n",
        "plt.plot(hist.history['accuracy'], 'r-', label='accuracy')\n",
        "plt.legend()"
      ],
      "metadata": {
        "id": "3gN3KnPlIYrw",
        "colab": {
          "base_uri": "https://localhost:8080/",
          "height": 448
        },
        "outputId": "aae69348-d322-41aa-b1ec-14f575c40789"
      },
      "execution_count": 10,
      "outputs": [
        {
          "output_type": "execute_result",
          "data": {
            "text/plain": [
              "<matplotlib.legend.Legend at 0x7a646afbea10>"
            ]
          },
          "metadata": {},
          "execution_count": 10
        },
        {
          "output_type": "display_data",
          "data": {
            "text/plain": [
              "<Figure size 640x480 with 1 Axes>"
            ],
            "image/png": "[encoded data removed]"
          },
          "metadata": {}
        }
      ]
    },
    {
      "cell_type": "code",
      "source": [
        "# 이미 학습을 마친 모델을 저장 : save()\n",
        "# .h5 파일 : 모델 및 가중치를 모두 포함함\n",
        "model.save('./iris_60x30_model.h5')"
      ],
      "metadata": {
        "id": "pptYJgvGIYv1",
        "colab": {
          "base_uri": "https://localhost:8080/"
        },
        "outputId": "18dda4c1-166e-4c41-a37f-00e679e3ad8d"
      },
      "execution_count": 11,
      "outputs": [
        {
          "output_type": "stream",
          "name": "stderr",
          "text": [
            "/usr/local/lib/python3.10/dist-packages/keras/src/engine/training.py:3103: UserWarning: You are saving your model as an HDF5 file via `model.save()`. This file format is considered legacy. We recommend using instead the native Keras format, e.g. `model.save('my_model.keras')`.\n",
            "  saving_api.save_model(\n"
          ]
        }
      ]
    },
    {
      "cell_type": "code",
      "source": [
        "# 저장된 모델 불러오기 : keras.models.load_model()\n",
        "# 모델의 요약 정보 : summary()\n",
        "loaded =keras.models.load_model('./iris_60x30_model.h5')\n",
        "loaded.summary()"
      ],
      "metadata": {
        "id": "JoIrF9UyIYzd",
        "colab": {
          "base_uri": "https://localhost:8080/"
        },
        "outputId": "cecd7ff3-918a-4e97-d1ad-3db506a5e1b0"
      },
      "execution_count": 12,
      "outputs": [
        {
          "output_type": "stream",
          "name": "stdout",
          "text": [
            "Model: \"sequential_2\"\n",
            "_________________________________________________________________\n",
            " Layer (type)                Output Shape              Param #   \n",
            "=================================================================\n",
            " flatten_2 (Flatten)         (None, 4)                 0         \n",
            "                                                                 \n",
            " dense_4 (Dense)             (None, 60)                300       \n",
            "                                                                 \n",
            " dense_5 (Dense)             (None, 30)                1830      \n",
            "                                                                 \n",
            " dense_6 (Dense)             (None, 3)                 93        \n",
            "                                                                 \n",
            "=================================================================\n",
            "Total params: 2223 (8.68 KB)\n",
            "Trainable params: 2223 (8.68 KB)\n",
            "Non-trainable params: 0 (0.00 Byte)\n",
            "_________________________________________________________________\n"
          ]
        }
      ]
    }
  ]
}