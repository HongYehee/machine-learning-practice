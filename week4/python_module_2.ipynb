{
  "nbformat": 4,
  "nbformat_minor": 0,
  "metadata": {
    "colab": {
      "provenance": []
    },
    "kernelspec": {
      "name": "python3",
      "display_name": "Python 3"
    },
    "language_info": {
      "name": "python"
    }
  },
  "cells": [
    {
      "cell_type": "markdown",
      "source": [
        "## 240328 - Python Module(2)"
      ],
      "metadata": {
        "id": "PUFDrGvqI4K-"
      }
    },
    {
      "cell_type": "markdown",
      "source": [
        "### numpy 행렬 관련 기초 명령(1) - 기본 연산\n",
        "행렬, 벡터 연산 지원\n",
        "(리스트보다 연산 빠르고 기능도 많음)"
      ],
      "metadata": {
        "id": "Wk6P06PbI9uG"
      }
    },
    {
      "cell_type": "code",
      "execution_count": 1,
      "metadata": {
        "id": "DpOgMbIIISDk"
      },
      "outputs": [],
      "source": [
        "# numpy는 np라는 별명으로 흔히 사용함\n",
        "import numpy as np"
      ]
    },
    {
      "cell_type": "code",
      "source": [
        "# ones(), zeros(): 지정 크기만큼 행렬을 만들고 각각 1과 0으로 채움\n",
        "np.ones((3,4))"
      ],
      "metadata": {
        "colab": {
          "base_uri": "https://localhost:8080/"
        },
        "id": "3x2l9Xx4JXCo",
        "outputId": "f814292c-3481-4fac-ccc5-63091ea31b4e"
      },
      "execution_count": 2,
      "outputs": [
        {
          "output_type": "execute_result",
          "data": {
            "text/plain": [
              "array([[1., 1., 1., 1.],\n",
              "       [1., 1., 1., 1.],\n",
              "       [1., 1., 1., 1.]])"
            ]
          },
          "metadata": {},
          "execution_count": 2
        }
      ]
    },
    {
      "cell_type": "code",
      "source": [
        "np.zeros((3,2))"
      ],
      "metadata": {
        "colab": {
          "base_uri": "https://localhost:8080/"
        },
        "id": "xChYvSYeJXEt",
        "outputId": "2051fb88-c469-40dd-d043-526fcfe3d4b1"
      },
      "execution_count": 3,
      "outputs": [
        {
          "output_type": "execute_result",
          "data": {
            "text/plain": [
              "array([[0., 0.],\n",
              "       [0., 0.],\n",
              "       [0., 0.]])"
            ]
          },
          "metadata": {},
          "execution_count": 3
        }
      ]
    },
    {
      "cell_type": "code",
      "source": [
        "# eye(): 단위 행렬 만들기 (정수 1과 같은 성질을 가진 행렬)\n",
        "# 행과 열의 크기가 같으며, 주 대각선 1로 이루어짐\n",
        "np.eye(5)"
      ],
      "metadata": {
        "colab": {
          "base_uri": "https://localhost:8080/"
        },
        "id": "vGtDp7p5JXGh",
        "outputId": "7a3fd900-7e47-4379-99c8-2371907f0bff"
      },
      "execution_count": 8,
      "outputs": [
        {
          "output_type": "execute_result",
          "data": {
            "text/plain": [
              "array([[1., 0., 0., 0., 0.],\n",
              "       [0., 1., 0., 0., 0.],\n",
              "       [0., 0., 1., 0., 0.],\n",
              "       [0., 0., 0., 1., 0.],\n",
              "       [0., 0., 0., 0., 1.]])"
            ]
          },
          "metadata": {},
          "execution_count": 8
        }
      ]
    },
    {
      "cell_type": "code",
      "source": [
        "# array(): 행렬 만들기\n",
        "data1 = np.array([ [1,2,3], [4,5,6], [7,8,9] ])\n",
        "data1"
      ],
      "metadata": {
        "colab": {
          "base_uri": "https://localhost:8080/"
        },
        "id": "muTadbuuJXIm",
        "outputId": "f352029b-0c09-47a7-c817-a8996ffeacba"
      },
      "execution_count": 9,
      "outputs": [
        {
          "output_type": "execute_result",
          "data": {
            "text/plain": [
              "array([[1, 2, 3],\n",
              "       [4, 5, 6],\n",
              "       [7, 8, 9]])"
            ]
          },
          "metadata": {},
          "execution_count": 9
        }
      ]
    },
    {
      "cell_type": "code",
      "source": [
        "# shape: 행렬 크기 확인\n",
        "data1.shape"
      ],
      "metadata": {
        "colab": {
          "base_uri": "https://localhost:8080/"
        },
        "id": "WB7qNIBVJXKr",
        "outputId": "86ecf6af-803c-49ec-88ef-109acb745c5a"
      },
      "execution_count": 10,
      "outputs": [
        {
          "output_type": "execute_result",
          "data": {
            "text/plain": [
              "(3, 3)"
            ]
          },
          "metadata": {},
          "execution_count": 10
        }
      ]
    },
    {
      "cell_type": "code",
      "source": [
        "# dtype: 행렬 내부의 데이터형 확인\n",
        "data1.dtype"
      ],
      "metadata": {
        "colab": {
          "base_uri": "https://localhost:8080/"
        },
        "id": "RmFbOTHjJXMi",
        "outputId": "232b06b9-0c95-4de0-cadd-905f3df08fe7"
      },
      "execution_count": 11,
      "outputs": [
        {
          "output_type": "execute_result",
          "data": {
            "text/plain": [
              "dtype('int64')"
            ]
          },
          "metadata": {},
          "execution_count": 11
        }
      ]
    },
    {
      "cell_type": "code",
      "source": [
        "# astype(): 행렬 내부의 데이터형 변경\n",
        "data1 = data1.astype(np.float64)\n",
        "data1"
      ],
      "metadata": {
        "colab": {
          "base_uri": "https://localhost:8080/"
        },
        "id": "c7o_fKvwJXOl",
        "outputId": "a77b9039-1a59-4168-fb8d-5b97ec221310"
      },
      "execution_count": 12,
      "outputs": [
        {
          "output_type": "execute_result",
          "data": {
            "text/plain": [
              "array([[1., 2., 3.],\n",
              "       [4., 5., 6.],\n",
              "       [7., 8., 9.]])"
            ]
          },
          "metadata": {},
          "execution_count": 12
        }
      ]
    },
    {
      "cell_type": "code",
      "source": [
        "# 행렬의 사칙연산\n",
        "# 덧셈: numpy 배열에 + 연산을 하면, 대응되는 값끼리 합침\n",
        "# 곱셈: 행렬의 곱셈이 아니라 같은 위치의 요소끼리 곱하는 것\n",
        "data1 * data1"
      ],
      "metadata": {
        "colab": {
          "base_uri": "https://localhost:8080/"
        },
        "id": "6MZIfsW7JXQc",
        "outputId": "4a9833e3-deba-41c0-fe71-12f8bcb729e6"
      },
      "execution_count": 14,
      "outputs": [
        {
          "output_type": "execute_result",
          "data": {
            "text/plain": [
              "array([[ 1.,  4.,  9.],\n",
              "       [16., 25., 36.],\n",
              "       [49., 64., 81.]])"
            ]
          },
          "metadata": {},
          "execution_count": 14
        }
      ]
    },
    {
      "cell_type": "code",
      "source": [
        "# 행렬 각 요소에 일괄적으로 더하거나 뺄 때는 단순한 덧셈/뺄셈을 하면 됨\n",
        "data1 + 3"
      ],
      "metadata": {
        "colab": {
          "base_uri": "https://localhost:8080/"
        },
        "id": "3RRQBTX-JYVR",
        "outputId": "71a94bb2-94ce-4139-81c5-04faae9e5b28"
      },
      "execution_count": 15,
      "outputs": [
        {
          "output_type": "execute_result",
          "data": {
            "text/plain": [
              "array([[ 4.,  5.,  6.],\n",
              "       [ 7.,  8.,  9.],\n",
              "       [10., 11., 12.]])"
            ]
          },
          "metadata": {},
          "execution_count": 15
        }
      ]
    },
    {
      "cell_type": "code",
      "source": [
        "# 제곱근: ** 0.5\n",
        "data1 ** 0.5"
      ],
      "metadata": {
        "colab": {
          "base_uri": "https://localhost:8080/"
        },
        "id": "fEx6IDdAJY4V",
        "outputId": "0f308034-55ef-4efe-d348-74891af23d09"
      },
      "execution_count": 16,
      "outputs": [
        {
          "output_type": "execute_result",
          "data": {
            "text/plain": [
              "array([[1.        , 1.41421356, 1.73205081],\n",
              "       [2.        , 2.23606798, 2.44948974],\n",
              "       [2.64575131, 2.82842712, 3.        ]])"
            ]
          },
          "metadata": {},
          "execution_count": 16
        }
      ]
    },
    {
      "cell_type": "code",
      "source": [
        "# 동일하게 각각을 제곱할 수 있음\n",
        "data1 ** 2"
      ],
      "metadata": {
        "colab": {
          "base_uri": "https://localhost:8080/"
        },
        "id": "uWocfHvaJY8w",
        "outputId": "5a52a8e4-091e-4aeb-ada2-7e9f9cd03220"
      },
      "execution_count": 17,
      "outputs": [
        {
          "output_type": "execute_result",
          "data": {
            "text/plain": [
              "array([[ 1.,  4.,  9.],\n",
              "       [16., 25., 36.],\n",
              "       [49., 64., 81.]])"
            ]
          },
          "metadata": {},
          "execution_count": 17
        }
      ]
    },
    {
      "cell_type": "markdown",
      "source": [
        "### numpy 행렬 관련 기초 명령(2) - 슬라이싱"
      ],
      "metadata": {
        "id": "iR3M5Q3xN9uO"
      }
    },
    {
      "cell_type": "code",
      "source": [
        "# arange(): 0부터 9까지 정수 생성\n",
        "# 주의: arrange아니고 arange임\n",
        "data2 = np.arange(10)\n",
        "data2"
      ],
      "metadata": {
        "colab": {
          "base_uri": "https://localhost:8080/"
        },
        "id": "3zhKkt8tJY-1",
        "outputId": "f0c8f5c2-aa7d-4528-fa8b-120f89175afc"
      },
      "execution_count": 20,
      "outputs": [
        {
          "output_type": "execute_result",
          "data": {
            "text/plain": [
              "array([0, 1, 2, 3, 4, 5, 6, 7, 8, 9])"
            ]
          },
          "metadata": {},
          "execution_count": 20
        }
      ]
    },
    {
      "cell_type": "code",
      "source": [
        "# 원하는 위치의 데이터만 얻고 싶다면 리스트형의 슬라이싱을 사용할 수 있음\n",
        "data2[0]"
      ],
      "metadata": {
        "colab": {
          "base_uri": "https://localhost:8080/"
        },
        "id": "ZqFvM7FTJZAp",
        "outputId": "87db6cd5-5699-4995-e36c-0aba3458cdfe"
      },
      "execution_count": 22,
      "outputs": [
        {
          "output_type": "execute_result",
          "data": {
            "text/plain": [
              "0"
            ]
          },
          "metadata": {},
          "execution_count": 22
        }
      ]
    },
    {
      "cell_type": "code",
      "source": [
        "data2[1:4] # 1부터 3까지"
      ],
      "metadata": {
        "colab": {
          "base_uri": "https://localhost:8080/"
        },
        "id": "-Z3UImRXJZCx",
        "outputId": "a32cf088-5382-4092-b296-8a3025f6c050"
      },
      "execution_count": 23,
      "outputs": [
        {
          "output_type": "execute_result",
          "data": {
            "text/plain": [
              "array([1, 2, 3])"
            ]
          },
          "metadata": {},
          "execution_count": 23
        }
      ]
    },
    {
      "cell_type": "code",
      "source": [
        "# 원하는 범위의 구간에 있는 데이터만 변경 가능\n",
        "data2[1:4] = 10\n",
        "data2"
      ],
      "metadata": {
        "colab": {
          "base_uri": "https://localhost:8080/"
        },
        "id": "_3OP0107JZFF",
        "outputId": "6463a533-8369-4cc0-c550-c2397e4e2d76"
      },
      "execution_count": 24,
      "outputs": [
        {
          "output_type": "execute_result",
          "data": {
            "text/plain": [
              "array([ 0, 10, 10, 10,  4,  5,  6,  7,  8,  9])"
            ]
          },
          "metadata": {},
          "execution_count": 24
        }
      ]
    },
    {
      "cell_type": "code",
      "source": [
        "# 행만 지정해서 출력\n",
        "data1[2]"
      ],
      "metadata": {
        "colab": {
          "base_uri": "https://localhost:8080/"
        },
        "id": "23taoZgmJZHK",
        "outputId": "37e46d98-542c-4a4c-d7ec-2677094ffdfe"
      },
      "execution_count": 25,
      "outputs": [
        {
          "output_type": "execute_result",
          "data": {
            "text/plain": [
              "array([7., 8., 9.])"
            ]
          },
          "metadata": {},
          "execution_count": 25
        }
      ]
    },
    {
      "cell_type": "code",
      "source": [
        "# 범위 지정하여 출력도 가능\n",
        "data1[:2]"
      ],
      "metadata": {
        "colab": {
          "base_uri": "https://localhost:8080/"
        },
        "id": "f595jeeCJZI-",
        "outputId": "56680814-5d50-4950-cdd2-8ac28fa47f0d"
      },
      "execution_count": 27,
      "outputs": [
        {
          "output_type": "execute_result",
          "data": {
            "text/plain": [
              "array([[1., 2., 3.],\n",
              "       [4., 5., 6.]])"
            ]
          },
          "metadata": {},
          "execution_count": 27
        }
      ]
    },
    {
      "cell_type": "code",
      "source": [
        "data1[:2, 1:]"
      ],
      "metadata": {
        "colab": {
          "base_uri": "https://localhost:8080/"
        },
        "id": "bE0McriVJZLE",
        "outputId": "9de5339c-9cf7-4b2f-b6ae-b08e94a47d94"
      },
      "execution_count": 28,
      "outputs": [
        {
          "output_type": "execute_result",
          "data": {
            "text/plain": [
              "array([[2., 3.],\n",
              "       [5., 6.]])"
            ]
          },
          "metadata": {},
          "execution_count": 28
        }
      ]
    },
    {
      "cell_type": "markdown",
      "source": [
        "### numpy 행렬 관련 기초 명령(3) - 조건문에 따른 슬라이싱"
      ],
      "metadata": {
        "id": "uVGV7JdHO055"
      }
    },
    {
      "cell_type": "code",
      "source": [
        "# 데이터 준비\n",
        "names = np.array(['Bob', 'Joe', 'Will', 'Bob', 'Will'])\n",
        "names"
      ],
      "metadata": {
        "colab": {
          "base_uri": "https://localhost:8080/"
        },
        "id": "VuW0nBYcJZNc",
        "outputId": "70b57fc9-76fc-4c8e-ff73-a0f36e8bc19b"
      },
      "execution_count": 29,
      "outputs": [
        {
          "output_type": "execute_result",
          "data": {
            "text/plain": [
              "array(['Bob', 'Joe', 'Will', 'Bob', 'Will'], dtype='<U4')"
            ]
          },
          "metadata": {},
          "execution_count": 29
        }
      ]
    },
    {
      "cell_type": "code",
      "source": [
        "data_names = np.random.randn(5,4)\n",
        "data_names"
      ],
      "metadata": {
        "colab": {
          "base_uri": "https://localhost:8080/"
        },
        "id": "JgkKzpKlJZPx",
        "outputId": "399271ef-a7e6-47d1-f0c2-3518ec817ee5"
      },
      "execution_count": 30,
      "outputs": [
        {
          "output_type": "execute_result",
          "data": {
            "text/plain": [
              "array([[-0.20889745,  0.17354976,  0.91233518,  0.35208132],\n",
              "       [ 0.43594993, -2.5447156 ,  1.25651525,  0.18574327],\n",
              "       [ 2.34292534, -0.58820979,  2.28343608,  0.61814644],\n",
              "       [-1.24318733,  0.36481934,  0.20831413, -1.53524295],\n",
              "       [ 1.72058483, -0.21519786,  0.43907575, -0.2609339 ]])"
            ]
          },
          "metadata": {},
          "execution_count": 30
        }
      ]
    },
    {
      "cell_type": "code",
      "source": [
        "# 행렬에서 특정 조건 검색\n",
        "# names 변수에서 'Bob'이 포함된 부분 검색\n",
        "names == 'Bob'"
      ],
      "metadata": {
        "colab": {
          "base_uri": "https://localhost:8080/"
        },
        "id": "eVTTXyjfJZSH",
        "outputId": "73f47c88-7e02-4522-f847-b19eebc94b3b"
      },
      "execution_count": 31,
      "outputs": [
        {
          "output_type": "execute_result",
          "data": {
            "text/plain": [
              "array([ True, False, False,  True, False])"
            ]
          },
          "metadata": {},
          "execution_count": 31
        }
      ]
    },
    {
      "cell_type": "code",
      "source": [
        "# 이 조건을 그대로 data_names에 적용하면 True인 행만 나타남\n",
        "data_names[names == 'Bob']"
      ],
      "metadata": {
        "colab": {
          "base_uri": "https://localhost:8080/"
        },
        "id": "2ruhA4hEPCEE",
        "outputId": "9a895d87-ed86-4fe2-c44c-101b2f2fc3aa"
      },
      "execution_count": 32,
      "outputs": [
        {
          "output_type": "execute_result",
          "data": {
            "text/plain": [
              "array([[-0.20889745,  0.17354976,  0.91233518,  0.35208132],\n",
              "       [-1.24318733,  0.36481934,  0.20831413, -1.53524295]])"
            ]
          },
          "metadata": {},
          "execution_count": 32
        }
      ]
    },
    {
      "cell_type": "code",
      "source": [
        "# 다시 열을 슬라이싱 가능\n",
        "data_names[names == 'Bob', 2:]"
      ],
      "metadata": {
        "colab": {
          "base_uri": "https://localhost:8080/"
        },
        "id": "zDNIGBexPCF3",
        "outputId": "0a9bed82-4483-44f2-a554-a9b3247feff1"
      },
      "execution_count": 33,
      "outputs": [
        {
          "output_type": "execute_result",
          "data": {
            "text/plain": [
              "array([[ 0.91233518,  0.35208132],\n",
              "       [ 0.20831413, -1.53524295]])"
            ]
          },
          "metadata": {},
          "execution_count": 33
        }
      ]
    },
    {
      "cell_type": "code",
      "source": [
        "# 물결 기호(~): 부정(not) 조건 찾기\n",
        "data_names[~(names == 'Bob')]"
      ],
      "metadata": {
        "colab": {
          "base_uri": "https://localhost:8080/"
        },
        "id": "-EHm7nTvPCHr",
        "outputId": "a386577b-c003-40b0-91fd-c0e9fef0f3b5"
      },
      "execution_count": 34,
      "outputs": [
        {
          "output_type": "execute_result",
          "data": {
            "text/plain": [
              "array([[ 0.43594993, -2.5447156 ,  1.25651525,  0.18574327],\n",
              "       [ 2.34292534, -0.58820979,  2.28343608,  0.61814644],\n",
              "       [ 1.72058483, -0.21519786,  0.43907575, -0.2609339 ]])"
            ]
          },
          "metadata": {},
          "execution_count": 34
        }
      ]
    },
    {
      "cell_type": "code",
      "source": [
        "# 두 개 이상의 조건도 연결하여 사용 가능\n",
        "mask = (names == 'Bob') | (names == 'Will')\n",
        "mask"
      ],
      "metadata": {
        "colab": {
          "base_uri": "https://localhost:8080/"
        },
        "id": "AaqJBel7PCJQ",
        "outputId": "e9b950ee-ee67-4576-aae4-204f523935b7"
      },
      "execution_count": 35,
      "outputs": [
        {
          "output_type": "execute_result",
          "data": {
            "text/plain": [
              "array([ True, False,  True,  True,  True])"
            ]
          },
          "metadata": {},
          "execution_count": 35
        }
      ]
    },
    {
      "cell_type": "code",
      "source": [
        "data_names[mask]"
      ],
      "metadata": {
        "colab": {
          "base_uri": "https://localhost:8080/"
        },
        "id": "A16yjSNpPCLV",
        "outputId": "c74dc3cc-e652-447c-d44b-15134470d997"
      },
      "execution_count": 36,
      "outputs": [
        {
          "output_type": "execute_result",
          "data": {
            "text/plain": [
              "array([[-0.20889745,  0.17354976,  0.91233518,  0.35208132],\n",
              "       [ 2.34292534, -0.58820979,  2.28343608,  0.61814644],\n",
              "       [-1.24318733,  0.36481934,  0.20831413, -1.53524295],\n",
              "       [ 1.72058483, -0.21519786,  0.43907575, -0.2609339 ]])"
            ]
          },
          "metadata": {},
          "execution_count": 36
        }
      ]
    },
    {
      "cell_type": "code",
      "source": [
        "# data_names에서 음수를 검색하고 그 조건을 이용해서 데이터 변경도 가능\n",
        "data_names < 0"
      ],
      "metadata": {
        "colab": {
          "base_uri": "https://localhost:8080/"
        },
        "id": "nJc7K4AXPCNM",
        "outputId": "0f051a72-24e6-47ca-bc1b-057d5360a4b8"
      },
      "execution_count": 37,
      "outputs": [
        {
          "output_type": "execute_result",
          "data": {
            "text/plain": [
              "array([[ True, False, False, False],\n",
              "       [False,  True, False, False],\n",
              "       [False,  True, False, False],\n",
              "       [ True, False, False,  True],\n",
              "       [False,  True, False,  True]])"
            ]
          },
          "metadata": {},
          "execution_count": 37
        }
      ]
    },
    {
      "cell_type": "code",
      "source": [
        "data_names[data_names < 0] = 0\n",
        "data_names"
      ],
      "metadata": {
        "colab": {
          "base_uri": "https://localhost:8080/"
        },
        "id": "rQb7d-qmPCO-",
        "outputId": "f5cd2a4d-ae48-4ed7-96ac-fce83ec6be9b"
      },
      "execution_count": 38,
      "outputs": [
        {
          "output_type": "execute_result",
          "data": {
            "text/plain": [
              "array([[0.        , 0.17354976, 0.91233518, 0.35208132],\n",
              "       [0.43594993, 0.        , 1.25651525, 0.18574327],\n",
              "       [2.34292534, 0.        , 2.28343608, 0.61814644],\n",
              "       [0.        , 0.36481934, 0.20831413, 0.        ],\n",
              "       [1.72058483, 0.        , 0.43907575, 0.        ]])"
            ]
          },
          "metadata": {},
          "execution_count": 38
        }
      ]
    },
    {
      "cell_type": "markdown",
      "source": [
        "### shape와 reshape\n",
        "numpy를 이용해 만든 행렬의 크기, 그 크기를 변경하는 기능"
      ],
      "metadata": {
        "id": "OmAPSb5_RUAa"
      }
    },
    {
      "cell_type": "code",
      "source": [
        "# 15개의 원소가 있는 data_mat 생성\n",
        "data_mat = np.arange(15)\n",
        "data_mat"
      ],
      "metadata": {
        "colab": {
          "base_uri": "https://localhost:8080/"
        },
        "id": "EIciEQT5PCQk",
        "outputId": "cb9c91b4-d06b-49e2-871b-2a6488a486d8"
      },
      "execution_count": 39,
      "outputs": [
        {
          "output_type": "execute_result",
          "data": {
            "text/plain": [
              "array([ 0,  1,  2,  3,  4,  5,  6,  7,  8,  9, 10, 11, 12, 13, 14])"
            ]
          },
          "metadata": {},
          "execution_count": 39
        }
      ]
    },
    {
      "cell_type": "code",
      "source": [
        "# shape: 행렬 크기 반환\n",
        "# (15,): 15의 크기를 가지는 1차원 배열이라는 의미\n",
        "data_mat.shape"
      ],
      "metadata": {
        "colab": {
          "base_uri": "https://localhost:8080/"
        },
        "id": "0R7RFl6BPCSn",
        "outputId": "0e3f608a-6796-4e16-e6ce-f4dd78bebd09"
      },
      "execution_count": 40,
      "outputs": [
        {
          "output_type": "execute_result",
          "data": {
            "text/plain": [
              "(15,)"
            ]
          },
          "metadata": {},
          "execution_count": 40
        }
      ]
    },
    {
      "cell_type": "code",
      "source": [
        "# 다양한 행렬의 shape\n",
        "  # (4,): 1차원 배열, axis=0\n",
        "  # (2, 3): 2차원 배열, axis=0~1\n",
        "  # (4, 3, 2): 3차원 배열, axis=0~2"
      ],
      "metadata": {
        "id": "WxZ91iDiPCUd"
      },
      "execution_count": null,
      "outputs": []
    },
    {
      "cell_type": "code",
      "source": [
        "# reshape(행, 열): 원하는 형태로 numpy array 변경\n",
        "# 대신 원본 배열의 크기에 맞게 적용해줘야 함 (예를 들어, 15개 원소 1차원 -> 3x5 2차원)\n",
        "data_mat = data_mat.reshape(3, 5)\n",
        "data_mat"
      ],
      "metadata": {
        "colab": {
          "base_uri": "https://localhost:8080/"
        },
        "id": "bXR58uIWSis9",
        "outputId": "6803137d-271d-4f9a-eb24-c00a534bc1be"
      },
      "execution_count": 41,
      "outputs": [
        {
          "output_type": "execute_result",
          "data": {
            "text/plain": [
              "array([[ 0,  1,  2,  3,  4],\n",
              "       [ 5,  6,  7,  8,  9],\n",
              "       [10, 11, 12, 13, 14]])"
            ]
          },
          "metadata": {},
          "execution_count": 41
        }
      ]
    },
    {
      "cell_type": "code",
      "source": [
        "data_mat.shape"
      ],
      "metadata": {
        "colab": {
          "base_uri": "https://localhost:8080/"
        },
        "id": "bpSnGPoUPCWR",
        "outputId": "5fd6ae6d-8b2b-47f9-d19e-bbaeef9ba9e7"
      },
      "execution_count": 42,
      "outputs": [
        {
          "output_type": "execute_result",
          "data": {
            "text/plain": [
              "(3, 5)"
            ]
          },
          "metadata": {},
          "execution_count": 42
        }
      ]
    },
    {
      "cell_type": "code",
      "source": [
        "# reshape 할 때, -1을 이용하면 원하는 행이나 열만 적용해서 배열 형태 변경 가능\n",
        "# -1을 이용해 reshape 할 때도 원본 행렬의 크기를 고려해야 함(잘 나누어 떨어지도록)\n",
        "\n",
        "# 예) 행은 1개였으면 좋겠는데 열은 몇 개가 나오든 관계 없다(-1)\n",
        "data_mat = data_mat.reshape(1, -1) # (1, 15)이랑 결과 같음\n",
        "data_mat"
      ],
      "metadata": {
        "colab": {
          "base_uri": "https://localhost:8080/"
        },
        "id": "F_xMqip6PCYI",
        "outputId": "0f3f2b9b-8025-49c3-e48d-da1b107832e7"
      },
      "execution_count": 43,
      "outputs": [
        {
          "output_type": "execute_result",
          "data": {
            "text/plain": [
              "array([[ 0,  1,  2,  3,  4,  5,  6,  7,  8,  9, 10, 11, 12, 13, 14]])"
            ]
          },
          "metadata": {},
          "execution_count": 43
        }
      ]
    },
    {
      "cell_type": "code",
      "source": [
        "# 행은 3개였으면 좋겠는데 열은 알아서 해줘\n",
        "data_mat = data_mat.reshape(3, -1)\n",
        "data_mat"
      ],
      "metadata": {
        "colab": {
          "base_uri": "https://localhost:8080/"
        },
        "id": "FPvAHL-bPCZ8",
        "outputId": "71f9035c-af14-4cdd-fb4b-f55b85800ab0"
      },
      "execution_count": 46,
      "outputs": [
        {
          "output_type": "execute_result",
          "data": {
            "text/plain": [
              "array([[ 0,  1,  2,  3,  4],\n",
              "       [ 5,  6,  7,  8,  9],\n",
              "       [10, 11, 12, 13, 14]])"
            ]
          },
          "metadata": {},
          "execution_count": 46
        }
      ]
    },
    {
      "cell_type": "code",
      "source": [
        "# T: 행과 열을 서로 바꿔주는 transpose도 가능함\n",
        "data_mat = data_mat.reshape(3, 5)\n",
        "data_mat"
      ],
      "metadata": {
        "colab": {
          "base_uri": "https://localhost:8080/"
        },
        "id": "NwIZKrZYPCb_",
        "outputId": "c6eaea80-13ec-4ffd-b384-91b46f3821b5"
      },
      "execution_count": 47,
      "outputs": [
        {
          "output_type": "execute_result",
          "data": {
            "text/plain": [
              "array([[ 0,  1,  2,  3,  4],\n",
              "       [ 5,  6,  7,  8,  9],\n",
              "       [10, 11, 12, 13, 14]])"
            ]
          },
          "metadata": {},
          "execution_count": 47
        }
      ]
    },
    {
      "cell_type": "code",
      "source": [
        "data_mat.T"
      ],
      "metadata": {
        "colab": {
          "base_uri": "https://localhost:8080/"
        },
        "id": "-yflvaD3PCgL",
        "outputId": "74c67471-e9bb-4797-be14-a59dc0d9165e"
      },
      "execution_count": 49,
      "outputs": [
        {
          "output_type": "execute_result",
          "data": {
            "text/plain": [
              "array([[ 0,  5, 10],\n",
              "       [ 1,  6, 11],\n",
              "       [ 2,  7, 12],\n",
              "       [ 3,  8, 13],\n",
              "       [ 4,  9, 14]])"
            ]
          },
          "metadata": {},
          "execution_count": 49
        }
      ]
    },
    {
      "cell_type": "markdown",
      "source": [
        "### 간단한 통계 구하기"
      ],
      "metadata": {
        "id": "V-Pr7OE1Ub8Y"
      }
    },
    {
      "cell_type": "code",
      "source": [
        "# 랜덤 함수로 데이터 준비\n",
        "data = np.random.randn(5, 4)\n",
        "data"
      ],
      "metadata": {
        "colab": {
          "base_uri": "https://localhost:8080/"
        },
        "id": "HddIwhw1Ud5G",
        "outputId": "0391922d-30da-48ca-b03e-e8beb8a7c80e"
      },
      "execution_count": 51,
      "outputs": [
        {
          "output_type": "execute_result",
          "data": {
            "text/plain": [
              "array([[ 0.32083648,  1.13655065, -0.47453077, -1.28977733],\n",
              "       [ 1.1563827 , -1.25946769,  0.30570226, -0.01372026],\n",
              "       [ 0.55055283, -1.9274325 , -1.75336217, -0.50090694],\n",
              "       [-1.63192027,  0.39331777,  0.30813594,  0.8541697 ],\n",
              "       [ 2.47264385, -0.71822035,  1.25070832, -0.52200546]])"
            ]
          },
          "metadata": {},
          "execution_count": 51
        }
      ]
    },
    {
      "cell_type": "code",
      "source": [
        "# 평균 구하기\n",
        "np.mean(data)"
      ],
      "metadata": {
        "colab": {
          "base_uri": "https://localhost:8080/"
        },
        "id": "7X7O8wicUeg9",
        "outputId": "d1d247af-8219-495f-eb4c-e4a9dce41535"
      },
      "execution_count": 52,
      "outputs": [
        {
          "output_type": "execute_result",
          "data": {
            "text/plain": [
              "-0.06711716115127753"
            ]
          },
          "metadata": {},
          "execution_count": 52
        }
      ]
    },
    {
      "cell_type": "code",
      "source": [
        "# 데이터 속성으로 호출해도 됨\n",
        "data.mean()"
      ],
      "metadata": {
        "colab": {
          "base_uri": "https://localhost:8080/"
        },
        "id": "bTCQjmqBUejB",
        "outputId": "2309ef05-8ac7-43e4-b3af-33d7b876ef4e"
      },
      "execution_count": 53,
      "outputs": [
        {
          "output_type": "execute_result",
          "data": {
            "text/plain": [
              "-0.06711716115127753"
            ]
          },
          "metadata": {},
          "execution_count": 53
        }
      ]
    },
    {
      "cell_type": "code",
      "source": [
        "data.sum()"
      ],
      "metadata": {
        "colab": {
          "base_uri": "https://localhost:8080/"
        },
        "id": "KZwbF_YRUek3",
        "outputId": "d9fc3302-4d7a-4c8e-e28c-c230709204d1"
      },
      "execution_count": 54,
      "outputs": [
        {
          "output_type": "execute_result",
          "data": {
            "text/plain": [
              "-1.3423432230255505"
            ]
          },
          "metadata": {},
          "execution_count": 54
        }
      ]
    },
    {
      "cell_type": "code",
      "source": [
        "# axis 옵션: 행/열별로 데이터 평균 구하기\n",
        "# axis = 0: 2차원 배열에서 열 방향 (세로 방향)\n",
        "data.mean(axis = 0)"
      ],
      "metadata": {
        "colab": {
          "base_uri": "https://localhost:8080/"
        },
        "id": "pKO3HhS2Uemq",
        "outputId": "9e1fec26-7f98-4dc2-e923-4b0b8127b4db"
      },
      "execution_count": 55,
      "outputs": [
        {
          "output_type": "execute_result",
          "data": {
            "text/plain": [
              "array([ 0.57369912, -0.47505042, -0.07266928, -0.29444806])"
            ]
          },
          "metadata": {},
          "execution_count": 55
        }
      ]
    },
    {
      "cell_type": "code",
      "source": [
        "# axis = 1: 2차원 배열에서 행 방향 (가로 방향)\n",
        "data.mean(axis = 1)"
      ],
      "metadata": {
        "colab": {
          "base_uri": "https://localhost:8080/"
        },
        "id": "N-_UHspiUeoe",
        "outputId": "e3af9faa-5104-49e6-b5b7-9f932898945d"
      },
      "execution_count": 56,
      "outputs": [
        {
          "output_type": "execute_result",
          "data": {
            "text/plain": [
              "array([-0.07673024,  0.04722425, -0.9077872 , -0.01907421,  0.62078159])"
            ]
          },
          "metadata": {},
          "execution_count": 56
        }
      ]
    },
    {
      "cell_type": "code",
      "source": [
        "# 표준편차(std), 분산(var)도 평균처럼 구할 수 있음\n",
        "np.std(data)"
      ],
      "metadata": {
        "colab": {
          "base_uri": "https://localhost:8080/"
        },
        "id": "kKKvcnyyUeqk",
        "outputId": "a650c82a-c226-43cc-bf90-6848f16d6450"
      },
      "execution_count": 57,
      "outputs": [
        {
          "output_type": "execute_result",
          "data": {
            "text/plain": [
              "1.1327553262351397"
            ]
          },
          "metadata": {},
          "execution_count": 57
        }
      ]
    },
    {
      "cell_type": "code",
      "source": [
        "np.var(data)"
      ],
      "metadata": {
        "colab": {
          "base_uri": "https://localhost:8080/"
        },
        "id": "fE6f37ZZVXTt",
        "outputId": "7db44e8b-c7c6-4c5c-daec-509602f10e45"
      },
      "execution_count": 58,
      "outputs": [
        {
          "output_type": "execute_result",
          "data": {
            "text/plain": [
              "1.2831346291140777"
            ]
          },
          "metadata": {},
          "execution_count": 58
        }
      ]
    },
    {
      "cell_type": "code",
      "source": [
        "data.std()"
      ],
      "metadata": {
        "colab": {
          "base_uri": "https://localhost:8080/"
        },
        "id": "pSeP4i89VaOK",
        "outputId": "c79aae41-11d4-40f7-e811-69a7d8bc08c5"
      },
      "execution_count": 59,
      "outputs": [
        {
          "output_type": "execute_result",
          "data": {
            "text/plain": [
              "1.1327553262351397"
            ]
          },
          "metadata": {},
          "execution_count": 59
        }
      ]
    },
    {
      "cell_type": "code",
      "source": [
        "data.var()"
      ],
      "metadata": {
        "colab": {
          "base_uri": "https://localhost:8080/"
        },
        "id": "d_tKiFxaVaQP",
        "outputId": "9d1570bf-0c99-40ca-fbd2-bdb8d9e7d3cf"
      },
      "execution_count": 60,
      "outputs": [
        {
          "output_type": "execute_result",
          "data": {
            "text/plain": [
              "1.2831346291140777"
            ]
          },
          "metadata": {},
          "execution_count": 60
        }
      ]
    },
    {
      "cell_type": "code",
      "source": [
        "# argmin: 최솟값의 위치(index)\n",
        "# argmax: 최댓값의 위치\n",
        "np.argmin(data)"
      ],
      "metadata": {
        "colab": {
          "base_uri": "https://localhost:8080/"
        },
        "id": "0Solb-kbVaSE",
        "outputId": "45fac007-a792-447a-db36-ae04cdc5a6ee"
      },
      "execution_count": 61,
      "outputs": [
        {
          "output_type": "execute_result",
          "data": {
            "text/plain": [
              "9"
            ]
          },
          "metadata": {},
          "execution_count": 61
        }
      ]
    },
    {
      "cell_type": "code",
      "source": [
        "data.argmin()"
      ],
      "metadata": {
        "colab": {
          "base_uri": "https://localhost:8080/"
        },
        "id": "UJS-tzWaVaT5",
        "outputId": "f413ca20-0fde-43b4-ce52-a5b2863e84bb"
      },
      "execution_count": 62,
      "outputs": [
        {
          "output_type": "execute_result",
          "data": {
            "text/plain": [
              "9"
            ]
          },
          "metadata": {},
          "execution_count": 62
        }
      ]
    },
    {
      "cell_type": "code",
      "source": [
        "np.argmax(data)"
      ],
      "metadata": {
        "colab": {
          "base_uri": "https://localhost:8080/"
        },
        "id": "7Q-TxIZoVaWP",
        "outputId": "ec2f3474-5ed6-472a-a3c4-9c57b50da1ce"
      },
      "execution_count": 63,
      "outputs": [
        {
          "output_type": "execute_result",
          "data": {
            "text/plain": [
              "16"
            ]
          },
          "metadata": {},
          "execution_count": 63
        }
      ]
    },
    {
      "cell_type": "code",
      "source": [
        "data.argmax()"
      ],
      "metadata": {
        "colab": {
          "base_uri": "https://localhost:8080/"
        },
        "id": "ZZyDWA9IVaYV",
        "outputId": "718d0f74-d141-48cc-a3c2-5371c275383f"
      },
      "execution_count": 64,
      "outputs": [
        {
          "output_type": "execute_result",
          "data": {
            "text/plain": [
              "16"
            ]
          },
          "metadata": {},
          "execution_count": 64
        }
      ]
    }
  ]
}